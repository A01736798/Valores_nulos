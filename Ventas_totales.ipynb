{
  "nbformat": 4,
  "nbformat_minor": 0,
  "metadata": {
    "colab": {
      "provenance": [],
      "authorship_tag": "ABX9TyNeLfooN90m3CoppI+NWMgt",
      "include_colab_link": true
    },
    "kernelspec": {
      "name": "python3",
      "display_name": "Python 3"
    },
    "language_info": {
      "name": "python"
    }
  },
  "cells": [
    {
      "cell_type": "markdown",
      "metadata": {
        "id": "view-in-github",
        "colab_type": "text"
      },
      "source": [
        "<a href=\"https://colab.research.google.com/github/A01736798/Valores_nulos/blob/main/Ventas_totales.ipynb\" target=\"_parent\"><img src=\"https://colab.research.google.com/assets/colab-badge.svg\" alt=\"Open In Colab\"/></a>"
      ]
    },
    {
      "cell_type": "code",
      "execution_count": 1,
      "metadata": {
        "id": "eYpt3skZ3CAF"
      },
      "outputs": [],
      "source": [
        "import pandas as pd\n",
        "import numpy as np\n",
        "import matplotlib.pyplot as plt\n",
        "import seaborn as sns"
      ]
    },
    {
      "cell_type": "code",
      "source": [
        "from google.colab import files\n",
        "files.upload()"
      ],
      "metadata": {
        "id": "pY8VgcBN3H8s"
      },
      "execution_count": null,
      "outputs": []
    },
    {
      "cell_type": "code",
      "source": [
        "df= pd.read_csv(\"Ventas_totales.csv\")"
      ],
      "metadata": {
        "id": "YH1vqgNn3Lm2"
      },
      "execution_count": 6,
      "outputs": []
    },
    {
      "cell_type": "code",
      "source": [
        "df = df.head(5)\n",
        "df"
      ],
      "metadata": {
        "id": "raHnhfTN3PL6"
      },
      "execution_count": null,
      "outputs": []
    },
    {
      "cell_type": "code",
      "source": [
        "data1 = pd.read_csv(\"Ventas_totales.csv\")"
      ],
      "metadata": {
        "id": "NaVIHH0K4mB2"
      },
      "execution_count": 12,
      "outputs": []
    },
    {
      "cell_type": "code",
      "source": [
        "valores_nulos= data1.isnull().sum()\n",
        "valores_nulos"
      ],
      "metadata": {
        "id": "uRaDf7W33UWc"
      },
      "execution_count": null,
      "outputs": []
    },
    {
      "cell_type": "code",
      "source": [
        "data2 = data1.copy()"
      ],
      "metadata": {
        "id": "Q4jOMncZ72m2"
      },
      "execution_count": 43,
      "outputs": []
    },
    {
      "cell_type": "code",
      "source": [
        "data2['salon_ventas']=data2['salon_ventas'].fillna(round(data1['salon_ventas'].mean(),1))"
      ],
      "metadata": {
        "id": "2l9Ao1lT8rWL"
      },
      "execution_count": 44,
      "outputs": []
    },
    {
      "cell_type": "code",
      "source": [
        "data2['tarjetas_debito']=data2['tarjetas_debito'].fillna(method=\"bfill\")"
      ],
      "metadata": {
        "id": "8qPnRs7I83OC"
      },
      "execution_count": 45,
      "outputs": []
    },
    {
      "cell_type": "code",
      "source": [
        "data2['tarjetas_credito']=data2['tarjetas_credito'].fillna(method=\"ffill\")"
      ],
      "metadata": {
        "id": "ONUJZIjM-kH-"
      },
      "execution_count": 53,
      "outputs": []
    },
    {
      "cell_type": "code",
      "source": [
        "data2['otros_medios']=data2['otros_medios'].fillna(round(data1['otros_medios'].median(),1))"
      ],
      "metadata": {
        "id": "UtZcX-SZ-zfS"
      },
      "execution_count": 49,
      "outputs": []
    },
    {
      "cell_type": "code",
      "source": [
        "data2['subtotal_ventas_alimentos_bebidas']=data2['subtotal_ventas_alimentos_bebidas'].fillna(round(data1['subtotal_ventas_alimentos_bebidas'].mean(),1))"
      ],
      "metadata": {
        "id": "isj0amkK_UKR"
      },
      "execution_count": 51,
      "outputs": []
    },
    {
      "cell_type": "code",
      "source": [
        "data2['bebidas']=data2['bebidas'].fillna(method=\"ffill\")"
      ],
      "metadata": {
        "id": "toThis_k_hBj"
      },
      "execution_count": 54,
      "outputs": []
    },
    {
      "cell_type": "code",
      "source": [
        "data2['almacen']=data2['almacen'].fillna(round(data1['almacen'].median(),1))"
      ],
      "metadata": {
        "id": "BZnO1B4D_iS2"
      },
      "execution_count": 58,
      "outputs": []
    },
    {
      "cell_type": "code",
      "source": [
        "data2['panaderia']=data2['panaderia'].fillna(round(data1['alimentos_preparados_rotiseria'].median(),1))"
      ],
      "metadata": {
        "id": "6M2KTDYR_hXn"
      },
      "execution_count": 61,
      "outputs": []
    },
    {
      "cell_type": "code",
      "source": [
        "data2['lacteos']=data2['bebidas'].fillna(method=\"ffill\")"
      ],
      "metadata": {
        "id": "1KXI9KPnArIT"
      },
      "execution_count": 63,
      "outputs": []
    },
    {
      "cell_type": "code",
      "source": [
        "data2['carnes']=data2['carnes'].fillna(round(data1['alimentos_preparados_rotiseria'].median(),1))"
      ],
      "metadata": {
        "id": "p0HMleVnA0tk"
      },
      "execution_count": 65,
      "outputs": []
    },
    {
      "cell_type": "code",
      "source": [
        "data2['verduleria_fruteria']=data2['verduleria_fruteria'].fillna(round(data1['verduleria_fruteria'].mean(),1))"
      ],
      "metadata": {
        "id": "9625QQ9iBDiw"
      },
      "execution_count": 67,
      "outputs": []
    },
    {
      "cell_type": "code",
      "source": [
        "data2['alimentos_preparados_rotiseria']=data2['alimentos_preparados_rotiseria'].fillna(round(data1['alimentos_preparados_rotiseria'].mean(),1))"
      ],
      "metadata": {
        "id": "bGOQPQweBK7L"
      },
      "execution_count": 68,
      "outputs": []
    },
    {
      "cell_type": "code",
      "source": [
        "data2['indumentaria_calzado_textiles_hogar']=data2['indumentaria_calzado_textiles_hogar'].fillna(method=\"bfill\")"
      ],
      "metadata": {
        "id": "thE3oWxNBZl9"
      },
      "execution_count": 69,
      "outputs": []
    },
    {
      "cell_type": "code",
      "source": [
        "data2['electronicos_articulos_hogar']=data2['electronicos_articulos_hogar'].fillna(method=\"ffill\")"
      ],
      "metadata": {
        "id": "3h-S5QvsBu0g"
      },
      "execution_count": 71,
      "outputs": []
    },
    {
      "cell_type": "code",
      "source": [
        "data2['otros']=data2['otros'].fillna(2354084.901)"
      ],
      "metadata": {
        "id": "ydJH-mToBu_G"
      },
      "execution_count": 73,
      "outputs": []
    },
    {
      "cell_type": "code",
      "source": [
        "valores_nulos= data2.isnull().sum()\n",
        "valores_nulos"
      ],
      "metadata": {
        "colab": {
          "base_uri": "https://localhost:8080/"
        },
        "id": "vfUPJBKY9CF5",
        "outputId": "e08b9ea7-27ac-4e5f-ab31-cbf033a4fa0e"
      },
      "execution_count": 74,
      "outputs": [
        {
          "output_type": "execute_result",
          "data": {
            "text/plain": [
              "indice_tiempo                          0\n",
              "ventas_precios_corrientes              0\n",
              "ventas_precios_constantes              0\n",
              "ventas_totales_canal_venta             0\n",
              "salon_ventas                           0\n",
              "canales_on_line                        0\n",
              "ventas_totales_medio_pago              0\n",
              "efectivo                               0\n",
              "tarjetas_debito                        0\n",
              "tarjetas_credito                       0\n",
              "otros_medios                           0\n",
              "ventas_totales_grupo_articulos         0\n",
              "subtotal_ventas_alimentos_bebidas      0\n",
              "bebidas                                0\n",
              "almacen                                0\n",
              "panaderia                              0\n",
              "lacteos                                0\n",
              "carnes                                 0\n",
              "verduleria_fruteria                    0\n",
              "alimentos_preparados_rotiseria         0\n",
              "articulos_limpieza_perfumeria          0\n",
              "indumentaria_calzado_textiles_hogar    0\n",
              "electronicos_articulos_hogar           0\n",
              "otros                                  0\n",
              "dtype: int64"
            ]
          },
          "metadata": {},
          "execution_count": 74
        }
      ]
    },
    {
      "cell_type": "code",
      "source": [
        "data2.to_csv(\"data2.csv\")"
      ],
      "metadata": {
        "id": "MhRF9RhRC2-4"
      },
      "execution_count": 75,
      "outputs": []
    },
    {
      "cell_type": "code",
      "source": [
        "from google.colab import files\n",
        "files.download(\"data2.csv\")"
      ],
      "metadata": {
        "colab": {
          "base_uri": "https://localhost:8080/",
          "height": 17
        },
        "id": "zPEmSuA-C6WP",
        "outputId": "2ae369b7-d20b-4cd4-f929-c3cfdc9066af"
      },
      "execution_count": 76,
      "outputs": [
        {
          "output_type": "display_data",
          "data": {
            "text/plain": [
              "<IPython.core.display.Javascript object>"
            ],
            "application/javascript": [
              "\n",
              "    async function download(id, filename, size) {\n",
              "      if (!google.colab.kernel.accessAllowed) {\n",
              "        return;\n",
              "      }\n",
              "      const div = document.createElement('div');\n",
              "      const label = document.createElement('label');\n",
              "      label.textContent = `Downloading \"${filename}\": `;\n",
              "      div.appendChild(label);\n",
              "      const progress = document.createElement('progress');\n",
              "      progress.max = size;\n",
              "      div.appendChild(progress);\n",
              "      document.body.appendChild(div);\n",
              "\n",
              "      const buffers = [];\n",
              "      let downloaded = 0;\n",
              "\n",
              "      const channel = await google.colab.kernel.comms.open(id);\n",
              "      // Send a message to notify the kernel that we're ready.\n",
              "      channel.send({})\n",
              "\n",
              "      for await (const message of channel.messages) {\n",
              "        // Send a message to notify the kernel that we're ready.\n",
              "        channel.send({})\n",
              "        if (message.buffers) {\n",
              "          for (const buffer of message.buffers) {\n",
              "            buffers.push(buffer);\n",
              "            downloaded += buffer.byteLength;\n",
              "            progress.value = downloaded;\n",
              "          }\n",
              "        }\n",
              "      }\n",
              "      const blob = new Blob(buffers, {type: 'application/binary'});\n",
              "      const a = document.createElement('a');\n",
              "      a.href = window.URL.createObjectURL(blob);\n",
              "      a.download = filename;\n",
              "      div.appendChild(a);\n",
              "      a.click();\n",
              "      div.remove();\n",
              "    }\n",
              "  "
            ]
          },
          "metadata": {}
        },
        {
          "output_type": "display_data",
          "data": {
            "text/plain": [
              "<IPython.core.display.Javascript object>"
            ],
            "application/javascript": [
              "download(\"download_607a550a-5090-4244-8761-f75ffc42db0b\", \"data2.csv\", 18609)"
            ]
          },
          "metadata": {}
        }
      ]
    }
  ]
}